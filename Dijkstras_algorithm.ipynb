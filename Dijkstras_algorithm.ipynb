{
 "cells": [
  {
   "cell_type": "markdown",
   "id": "a433c300",
   "metadata": {},
   "source": [
    "# Dijkstras algorithm"
   ]
  },
  {
   "cell_type": "code",
   "execution_count": 3,
   "id": "6c090d72",
   "metadata": {},
   "outputs": [],
   "source": [
    "import networkx as nx\n",
    "import numpy as np\n",
    "import matplotlib.pyplot as plt"
   ]
  },
  {
   "cell_type": "code",
   "execution_count": 4,
   "id": "bdb97988",
   "metadata": {},
   "outputs": [
    {
     "data": {
      "image/png": "[encoded data removed]",
      "text/plain": [
       "<Figure size 432x288 with 1 Axes>"
      ]
     },
     "metadata": {},
     "output_type": "display_data"
    }
   ],
   "source": [
    "# contruct a graph\n",
    "G = nx.Graph()\n",
    "G.add_edge('A', 'B', weight = 6.)\n",
    "G.add_edge('A', 'D', weight = 1.)\n",
    "G.add_edge('B', 'D', weight = 2.)\n",
    "G.add_edge('B', 'C', weight = 5.)\n",
    "G.add_edge('B', 'E', weight = 2.)\n",
    "G.add_edge('C', 'E', weight = 5.)\n",
    "G.add_edge('D', 'E', weight = 1.)\n",
    "\n",
    "# show graph\n",
    "pos = nx.spring_layout(G) #, k=10\n",
    "nx.draw(G, pos, with_labels=True)\n",
    "labels = {e: G.edges[e]['weight'] for e in G.edges}\n",
    "nx.draw_networkx_edge_labels(G, pos, edge_labels=labels)\n",
    "plt.show()"
   ]
  },
  {
   "cell_type": "code",
   "execution_count": 135,
   "id": "8bbf4b64",
   "metadata": {},
   "outputs": [
    {
     "name": "stdout",
     "output_type": "stream",
     "text": [
      "updated distance dict: {'B': 6.0, 'C': inf, 'D': 1.0, 'E': inf}\n",
      "new current node: D\n",
      "visited nodes: ['A', 'D']\n",
      "unvisited nodes: ['B', 'C', 'E']\n",
      "end of loop\n",
      "updated distance dict: {'B': 2.0, 'C': inf, 'E': 1.0}\n",
      "new current node: E\n",
      "visited nodes: ['A', 'D', 'E']\n",
      "unvisited nodes: ['B', 'C']\n",
      "end of loop\n",
      "updated distance dict: {'B': 2.0, 'C': 5.0}\n",
      "new current node: B\n",
      "visited nodes: ['A', 'D', 'E', 'B']\n",
      "unvisited nodes: ['C']\n",
      "end of loop\n",
      "updated distance dict: {'C': 5.0}\n",
      "new current node: C\n",
      "visited nodes: ['A', 'D', 'E', 'B', 'C']\n",
      "unvisited nodes: []\n",
      "end of loop\n"
     ]
    }
   ],
   "source": [
    "# Dijkstra algorithm\n",
    "\n",
    "# first no visitied nodes\n",
    "visited_nodes = []\n",
    "\n",
    "# all nodes from the graph\n",
    "unvisited_nodes = list(G.nodes)\n",
    "\n",
    "# set starting node\n",
    "starting_node = ['A'] # set by user when making it into a function\n",
    "\n",
    "# initialize the distance dictionary with 0 for the starting node and inf for the others\n",
    "distance = {'A': 0, 'B': np.inf, 'C': np.inf, 'D': np.inf, 'E': np.inf}\n",
    "\n",
    "# calculate the length of while loop by calcualating the number of unvisited nodes\n",
    "length = len(unvisited_nodes)\n",
    "\n",
    "# initialize the current node with the starting node\n",
    "current_node = ''.join(starting_node)\n",
    "# initialze the visited nodes with the starting node == current node\n",
    "visited_nodes.append(current_node)\n",
    "# initialize the unvisited nodes by removing the starting node == current node == visited node\n",
    "unvisited_nodes.remove(current_node)\n",
    "\n",
    "#while length >= 0:\n",
    "while len(unvisited_nodes) > 0:\n",
    "    # remove current node from the distance dictionary, because it has the shortest distance to itself\n",
    "    distance.pop(current_node)\n",
    "    \n",
    "    # find adjacent nodes to the current node\n",
    "    adj_nodes = G.adj[current_node]\n",
    "    \n",
    "    # only for the unvisited adjacent nodes: update distance dictionary if the distance is shorter\n",
    "    for node in adj_nodes.keys():\n",
    "        if node in unvisited_nodes:\n",
    "            if adj_nodes[node]['weight'] < distance[node]:\n",
    "                distance[node] = adj_nodes[node]['weight']\n",
    "    print('updated distance dict:', distance)\n",
    "    \n",
    "       \n",
    "    # pick \n",
    "    current_node = min(distance, key = distance.get)\n",
    "    print('new current node:', current_node)\n",
    "    \n",
    "    # add new current node to the visited nodes\n",
    "    visited_nodes.append(current_node)\n",
    "    print('visited nodes:', visited_nodes)\n",
    "    # remove it from the unvisited\n",
    "    unvisited_nodes.remove(current_node)\n",
    "    print('unvisited nodes:', unvisited_nodes)\n",
    "    print('end of loop')\n",
    "    #length = length - 1"
   ]
  },
  {
   "cell_type": "code",
   "execution_count": 15,
   "id": "d99b7d78",
   "metadata": {},
   "outputs": [],
   "source": [
    "def Dijkstra_shortest_path(Graph, starting_node):\n",
    "    \"\"\"\n",
    "    The Dijkstras shortest path algorithm calculates the shortest path (every node is visited only once\n",
    "    and each edge is used only one) through a graph with visiting all nodes given. (Problems arising \n",
    "    by this path not exisiting for a graph are not handeled)\n",
    "    \n",
    "    :param\n",
    "    ---------\n",
    "    Graph: a graph of any size for which the shortest path shall be evaluated (graph object)\n",
    "    starting_node: user defines the starting node (str)\n",
    "    \n",
    "    :returns\n",
    "    ---------\n",
    "    visited_nodes: List with nodes in order of the path\n",
    "    \"\"\"\n",
    "    \n",
    "    # first no visitied nodes\n",
    "    visited_nodes = []\n",
    "\n",
    "    # all nodes from the graph\n",
    "    unvisited_nodes = list(Graph.nodes)\n",
    "\n",
    "    # set starting node\n",
    "    starting_node = starting_node\n",
    "\n",
    "    # initialize the distance dictionary with 0 for the starting node and inf for the others\n",
    "    distance = {}\n",
    "    for node in list(Graph.nodes):\n",
    "        distance.update({node: np.inf})\n",
    "    distance[starting_node] = 0\n",
    "\n",
    "    # calculate the length of while loop by calcualating the number of unvisited nodes\n",
    "    length = len(unvisited_nodes)\n",
    "\n",
    "    # initialize the current node with the starting node\n",
    "    current_node = starting_node\n",
    "    # initialze the visited nodes with the starting node == current node\n",
    "    visited_nodes.append(current_node)\n",
    "    # initialize the unvisited nodes by removing the starting node == current node == visited node\n",
    "    unvisited_nodes.remove(current_node)\n",
    "    \n",
    "    while len(unvisited_nodes) > 0:\n",
    "        # remove current node from the distance dictionary, because it has the shortest distance to itself\n",
    "        distance.pop(current_node)\n",
    "\n",
    "        # find adjacent nodes to the current node\n",
    "        adj_nodes = G.adj[current_node]\n",
    "\n",
    "        # only for the unvisited adjacent nodes: update distance dictionary if the distance is shorter\n",
    "        for node in adj_nodes.keys():\n",
    "            if node in unvisited_nodes:\n",
    "                if adj_nodes[node]['weight'] < distance[node]:\n",
    "                    distance[node] = adj_nodes[node]['weight']\n",
    "        #print('updated distance dict:', distance)\n",
    "\n",
    "\n",
    "        # pick the new current node by finding the edge with the shortest distance\n",
    "        current_node = min(distance, key = distance.get)\n",
    "        #print('new current node:', current_node)\n",
    "\n",
    "        # add new current node to the visited nodes\n",
    "        visited_nodes.append(current_node)\n",
    "        #print('visited nodes:', visited_nodes)\n",
    "        \n",
    "        # remove it from the unvisited\n",
    "        unvisited_nodes.remove(current_node)\n",
    "        #print('unvisited nodes:', unvisited_nodes)\n",
    "    \n",
    "    path = visited_nodes\n",
    "    \n",
    "    return path\n",
    "    "
   ]
  },
  {
   "cell_type": "code",
   "execution_count": 16,
   "id": "493865f3",
   "metadata": {},
   "outputs": [
    {
     "data": {
      "text/plain": [
       "['A', 'D', 'E', 'B', 'C']"
      ]
     },
     "execution_count": 16,
     "metadata": {},
     "output_type": "execute_result"
    }
   ],
   "source": [
    "Dijkstra_shortest_path(Graph = G, starting_node = 'A')"
   ]
  }
 ],
 "metadata": {
  "kernelspec": {
   "display_name": "Python 3 (ipykernel)",
   "language": "python",
   "name": "python3"
  },
  "language_info": {
   "codemirror_mode": {
    "name": "ipython",
    "version": 3
   },
   "file_extension": ".py",
   "mimetype": "text/x-python",
   "name": "python",
   "nbconvert_exporter": "python",
   "pygments_lexer": "ipython3",
   "version": "3.9.6"
  }
 },
 "nbformat": 4,
 "nbformat_minor": 5
}
