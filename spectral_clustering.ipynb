{
 "cells": [
  {
   "cell_type": "markdown",
   "id": "e9ccbafd",
   "metadata": {},
   "source": [
    "# Spectral graph partitioning"
   ]
  },
  {
   "cell_type": "markdown",
   "id": "5db6334d",
   "metadata": {},
   "source": [
    "## Spectral clustering\n",
    "\n",
    "There are several different approaches, here the steps of 3 are discussed and tested: unnormalized spectral clustering, normalized spectral clustering based on Lrw and normalized spectral clustering based on Lsym.\n",
    "\n",
    "The general steps are:\n",
    "- given set of n points\n",
    "- compute pariwise similarities using symmetric non-negative symmetry function -> similarity matrix\n",
    "- construct a similarity graph -> derive weighted adjacency matrix\n",
    "- calculate the unnomalized Laplacian / unnormalized Laplacian / normalized Laplacian Lsym\n",
    "- compute first k eigenvectors of Laplacian / first k generalized eigenvectors / first k eigenvectors of Lsym\n",
    "- store eigenvectors as columns of matrix U (for all 3 approaches)\n",
    "- derive matrix T from U by normalizing row to norm 1 (only for normalized approach using Lsym)\n",
    "- for i = 1,...,n yi is the vextor corresponding to the ith row of U / U / T\n",
    "- cluster the points (yi)i = 1,...,n with k-means algorithm into clusters C1,...,Ck\n",
    "- output are the clusters A1,...,Ak with Ai = {j | yj element Ci}"
   ]
  },
  {
   "cell_type": "code",
   "execution_count": 1,
   "id": "0053bb88",
   "metadata": {},
   "outputs": [
    {
     "name": "stdout",
     "output_type": "stream",
     "text": [
      "[[1 2]\n",
      " [2 3]\n",
      " [3 4]\n",
      " [4 1]\n",
      " [5 5]\n",
      " [6 2]\n",
      " [7 6]\n",
      " [8 4]]\n"
     ]
    }
   ],
   "source": [
    "import numpy as np\n",
    "# example set of points, described by x and y coordinates n = 8\n",
    "x = np.array([1, 2, 3, 4, 5, 6, 7, 8])\n",
    "y = np.array([2, 3, 4, 1, 5, 2, 6, 4])\n",
    "\n",
    "points = np.array((x,y)).T\n",
    "print(points)"
   ]
  },
  {
   "cell_type": "markdown",
   "id": "d07cfba9",
   "metadata": {},
   "source": [
    "### Derive the similarity matrix\n",
    "similarities can be derived in several different ways. "
   ]
  },
  {
   "cell_type": "code",
   "execution_count": 2,
   "id": "9f809dca",
   "metadata": {},
   "outputs": [
    {
     "data": {
      "text/plain": [
       "array([[1., 1., 1., 1., 0., 0., 0., 0.],\n",
       "       [1., 1., 1., 1., 0., 0., 0., 0.],\n",
       "       [1., 1., 1., 1., 1., 0., 0., 0.],\n",
       "       [1., 1., 1., 1., 0., 1., 0., 0.],\n",
       "       [0., 0., 1., 0., 1., 1., 1., 1.],\n",
       "       [0., 0., 0., 1., 1., 1., 0., 1.],\n",
       "       [0., 0., 0., 0., 1., 0., 1., 1.],\n",
       "       [0., 0., 0., 0., 1., 1., 1., 1.]])"
      ]
     },
     "execution_count": 2,
     "metadata": {},
     "output_type": "execute_result"
    }
   ],
   "source": [
    "from scipy.spatial import distance_matrix\n",
    "from scipy.spatial import distance\n",
    "#from sklearn.metrics.pairwise import euclidean_distances\n",
    "#euclidean_distances(points, points)\n",
    "\n",
    "# distance functions: euclidean\n",
    "#distance.pdist(points, metric='euclidean').round(2)\n",
    "\n",
    "# distance matrix based on euclidean distance\n",
    "eucl_dist = distance_matrix(points, points).round(2)\n",
    "\n",
    "# similarity matrix: for all values below threshold: 1, for values above threshold 0\n",
    "threshold = 3.50\n",
    "S = np.empty([8, 8])\n",
    "\n",
    "for i,row in enumerate(eucl_dist):\n",
    "    for j,item in enumerate(row):\n",
    "        if item < threshold:\n",
    "            S[i,j] = 1\n",
    "        else:\n",
    "            S[i,j] = 0\n",
    "S"
   ]
  },
  {
   "cell_type": "markdown",
   "id": "e98cb0d1",
   "metadata": {},
   "source": [
    "### Construct similarity graph\n",
    "Here a epsilon similarity graph is constructed."
   ]
  },
  {
   "cell_type": "code",
   "execution_count": 3,
   "id": "6d987ad2",
   "metadata": {},
   "outputs": [
    {
     "data": {
      "image/png": "[encoded data removed]",
      "text/plain": [
       "<Figure size 432x288 with 1 Axes>"
      ]
     },
     "metadata": {},
     "output_type": "display_data"
    }
   ],
   "source": [
    "import networkx as nx\n",
    "# crate node names for each point\n",
    "nodes = np.array(range(len(x)))\n",
    "nodes\n",
    "\n",
    "# construct graph\n",
    "G = nx.Graph()\n",
    "\n",
    "# Add nodes\n",
    "G.add_nodes_from(nodes)\n",
    "\n",
    "# add edges\n",
    "for i, row in enumerate(S):\n",
    "    for j, col in enumerate(row):\n",
    "        if col > 0:\n",
    "            G.add_edge(nodes[i], nodes[j])\n",
    "\n",
    "# remove selfloops\n",
    "G.remove_edges_from(nx.selfloop_edges(G))\n",
    "\n",
    "# draw the graph\n",
    "nx.draw(G)"
   ]
  },
  {
   "cell_type": "markdown",
   "id": "d9e79672",
   "metadata": {},
   "source": [
    "### Derive laplacian matrices\n",
    "\n",
    "unnormalized Laplacian L = D - A (degree matrix - adjacency matrix)"
   ]
  },
  {
   "cell_type": "code",
   "execution_count": 30,
   "id": "1f0a50b4",
   "metadata": {},
   "outputs": [
    {
     "name": "stdout",
     "output_type": "stream",
     "text": [
      "degree matrix D: \n",
      " [[3. 0. 0. 0. 0. 0. 0. 0.]\n",
      " [0. 3. 0. 0. 0. 0. 0. 0.]\n",
      " [0. 0. 4. 0. 0. 0. 0. 0.]\n",
      " [0. 0. 0. 4. 0. 0. 0. 0.]\n",
      " [0. 0. 0. 0. 4. 0. 0. 0.]\n",
      " [0. 0. 0. 0. 0. 3. 0. 0.]\n",
      " [0. 0. 0. 0. 0. 0. 2. 0.]\n",
      " [0. 0. 0. 0. 0. 0. 0. 3.]]\n",
      "\n",
      " adjacency matrix A: \n",
      " [[0 1 1 1 0 0 0 0]\n",
      " [1 0 1 1 0 0 0 0]\n",
      " [1 1 0 1 1 0 0 0]\n",
      " [1 1 1 0 0 1 0 0]\n",
      " [0 0 1 0 0 1 1 1]\n",
      " [0 0 0 1 1 0 0 1]\n",
      " [0 0 0 0 1 0 0 1]\n",
      " [0 0 0 0 1 1 1 0]]\n",
      "\n",
      " built-in unnormalized Laplacian L \n",
      " [[ 3 -1 -1 -1  0  0  0  0]\n",
      " [-1  3 -1 -1  0  0  0  0]\n",
      " [-1 -1  4 -1 -1  0  0  0]\n",
      " [-1 -1 -1  4  0 -1  0  0]\n",
      " [ 0  0 -1  0  4 -1 -1 -1]\n",
      " [ 0  0  0 -1 -1  3  0 -1]\n",
      " [ 0  0  0  0 -1  0  2 -1]\n",
      " [ 0  0  0  0 -1 -1 -1  3]]\n",
      "\n",
      " normalized Laplacian Lsym \n",
      " [[ 1.   -0.33 -0.29 -0.29  0.    0.    0.    0.  ]\n",
      " [-0.33  1.   -0.29 -0.29  0.    0.    0.    0.  ]\n",
      " [-0.29 -0.29  1.   -0.25 -0.25  0.    0.    0.  ]\n",
      " [-0.29 -0.29 -0.25  1.    0.   -0.29  0.    0.  ]\n",
      " [ 0.    0.   -0.25  0.    1.   -0.29 -0.35 -0.29]\n",
      " [ 0.    0.    0.   -0.29 -0.29  1.    0.   -0.33]\n",
      " [ 0.    0.    0.    0.   -0.35  0.    1.   -0.41]\n",
      " [ 0.    0.    0.    0.   -0.29 -0.33 -0.41  1.  ]]\n"
     ]
    },
    {
     "name": "stderr",
     "output_type": "stream",
     "text": [
      "C:\\Users\\chiar\\AppData\\Local\\Temp/ipykernel_9056/3994074545.py:13: FutureWarning: adjacency_matrix will return a scipy.sparse array instead of a matrix in Networkx 3.0.\n",
      "  A = nx.adjacency_matrix(G)\n"
     ]
    }
   ],
   "source": [
    "# derive degree matrix\n",
    "D = np.empty([8, 8])\n",
    "for i, row in enumerate(nodes):\n",
    "    for j, col in enumerate(nodes):\n",
    "        if i == j:\n",
    "            D[i,j] = G.degree[row]\n",
    "        else:\n",
    "            D[i,j] = 0\n",
    "print('degree matrix D:', '\\n', D)\n",
    "\n",
    "\n",
    "# derive adcacency matrix\n",
    "A = nx.adjacency_matrix(G)\n",
    "#print(A)\n",
    "A = A.todense()\n",
    "print('\\n', 'adjacency matrix A:', '\\n', A)\n",
    "\n",
    "# unnormalized laplacian\n",
    "L_un = nx.laplacian_matrix(G).todense()\n",
    "print('\\n', 'built-in unnormalized Laplacian L', '\\n', L_un)\n",
    "\n",
    "L_un_self = D - A\n",
    "#print(L_un_self)\n",
    "\n",
    "# normalized laplacian (Lsym)\n",
    "L_sym = nx.normalized_laplacian_matrix(G).todense().round(2)\n",
    "print('\\n', 'normalized Laplacian Lsym', '\\n', L_sym)\n",
    "\n",
    "# normalized laplacian (Lrw) is not built in and requires a some linear algebra to get there, so its a skip for now"
   ]
  },
  {
   "cell_type": "markdown",
   "id": "61cdb1bf",
   "metadata": {},
   "source": [
    "# Get the first k Eigenvectors\n",
    "\n",
    "Here k refers to the number of clusters. The first k eigenvectors of the laplacian matrix are derive and stored as column vectors in the matrix U. For normalized spectral clustering using Lsym a furhter normalization step is required which leads to matrix T derived from U."
   ]
  },
  {
   "cell_type": "code",
   "execution_count": 50,
   "id": "a0f87a8e",
   "metadata": {},
   "outputs": [
    {
     "name": "stdout",
     "output_type": "stream",
     "text": [
      "[[ 3.40748697e-01  3.40748697e-01  3.93675948e-01]\n",
      " [ 3.80303286e-01  3.80303286e-01  2.69327987e-01]\n",
      " [ 1.55099665e-01  1.55099665e-01  2.80044958e-01]\n",
      " [-2.52795682e-02 -2.52795682e-02 -2.75876459e-01]\n",
      " [-2.59824899e-01 -2.59824899e-01  5.56303429e-01]\n",
      " [ 2.51484982e-01  2.51484982e-01 -5.55322213e-01]\n",
      " [-7.07106781e-01  7.07106781e-01  2.89709683e-15]\n",
      " [ 2.89501466e-01  2.89501466e-01 -9.61350168e-03]]\n"
     ]
    }
   ],
   "source": [
    "# number of clusters\n",
    "k = 3\n",
    "\n",
    "# calculate eigenvalues and eigenvectors from unnormalized laplacian\n",
    "eig_vals, eig_vecs = np.linalg.eig(L_un)\n",
    "eig_vals = eig_vals[0:3]\n",
    "eig_vecs = eig_vecs[0:3]\n",
    "\n",
    "# store the eigenvectors in matrix U\n",
    "U = eig_vecs.T\n",
    "\n",
    "# calculate eigenvalues and eigenvectors from normalized laplacian Lsym\n",
    "eig_vals, eig_vecs = np.linalg.eig(L_sym)\n",
    "eig_vals = eig_vals[0:3]\n",
    "eig_vecs = eig_vecs[0:3]\n",
    "\n",
    "# form U\n",
    "U_norm = eig_vecs.T\n",
    "\n",
    "# derive T from U\n",
    "T = np.empty([3, 8])\n",
    "for i,row in enumerate(T):\n",
    "    for j,col in enumerate(T):\n",
    "        T[i,j] = U[i,j]/np.sqrt(U[i].sum())\n",
    "\n",
    "T = T.T"
   ]
  },
  {
   "cell_type": "code",
   "execution_count": 46,
   "id": "c5f0ef9b",
   "metadata": {},
   "outputs": [
    {
     "data": {
      "text/plain": [
       "1.060660171779821"
      ]
     },
     "execution_count": 46,
     "metadata": {},
     "output_type": "execute_result"
    }
   ],
   "source": []
  }
 ],
 "metadata": {
  "kernelspec": {
   "display_name": "Python 3 (ipykernel)",
   "language": "python",
   "name": "python3"
  },
  "language_info": {
   "codemirror_mode": {
    "name": "ipython",
    "version": 3
   },
   "file_extension": ".py",
   "mimetype": "text/x-python",
   "name": "python",
   "nbconvert_exporter": "python",
   "pygments_lexer": "ipython3",
   "version": "3.9.6"
  }
 },
 "nbformat": 4,
 "nbformat_minor": 5
}
