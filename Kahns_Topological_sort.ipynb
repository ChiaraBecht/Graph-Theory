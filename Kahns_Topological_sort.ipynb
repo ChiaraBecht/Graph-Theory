{
 "cells": [
  {
   "cell_type": "markdown",
   "id": "b8576c0a",
   "metadata": {},
   "source": [
    "# Kahn's Topoplogical sort algorithm\n",
    "\n",
    "Kahn's algorithm produces a topological order of a provided directed acyclic graph (DAG). DAG's nodes are characterized by having incoming and outgoing degrees (because of being directed). The number of incoming edges/branches is called indegree, the number of leaving edges/branches from a node is called the outdegree. Nodes with an indegree of 0 do not depend on any other node in the graph. A node with indegree > 0 depends on the the node from which its incoming branch/es are originating. If a graph connects several nodes which all rely on a sequence of the included nodes because each node has in and out going edges/branches, this sequence of nodes is called a cycle. A DAG does not have such cycles. Kahn's algorithm orders the nodes in such a way, that the first node will have an indegree of 0 and the last node will have  an outdegree of 0. The topological order is ambiguous, meaning several runs of the algorithm can lead to several valid orders. \n",
    "\n",
    "The Kahn sort algorithm can be imagined as a representation of the morning routine. In order to leave the house one needs to get out of the bed first, getting dressed, eating breakfast, going to the bathroom and so on. Some of these actions require another one happening before, while some are not depending on other actions. In order to get all the morning routine steps done you need to leave the bed. However, it is up to you whether you brush your teeths before getting dressed. This kind of problems are addressed with the Kahn algorithm. In this case leaving the bed is a node with an indegree 0. Leaving the house is not leading to any other action in the morning routine and will be the last node in the order. The nodes between need to be unlocked by taking actions and remove dependencies. For example leaving the bed makes the options go to the bathroom,  get dressed or get breakfast available. If you go to the bathroom first then brushing teeth, going to the toilet and washing the face become available because the bathroom was entered on which these actions rely on. Note you could choose to eat breakfast or getting dressed first and got to the bathroom later. You even could go to the toilet first then have breakfast, then return to the bathroom for brushing teeth and washing the face and as last step before leaving the house getting dressed.\n",
    "\n",
    "The Kahn algorithm handles these dependencies as follows: find all nodes with indegree 0 and add them to a queue. Pick the first queue element and add it as first element to the topological order. Then, delete the current node from the queue and the graph. Deletion from the graph results in lessening of the adjacent nodes indegree by 1. This reduction is due to the current nodes outgoing node is an incoming node for the adjacent nodes. This procedure of lessening the indegree of adjacent nodes eventually results in indegree of 0 for an adjacent node. If this is the case, add this node to the queue with nodes of indegree 0. If this is not the case continue without adding new elements to the queue with the second queue element. Again remove it from the queue and the graph. Check whether the indegree of adjacent nodes has reduced to 0 if so add it to the queue. This set of actions is repeated until the graoh does have nodes. While repeting these steps keep track of how often you repeat these steps, if you need to repeat the steps more often than there are nodes in the graph a cycle was encountered. In this case do not return the order but a statement, that a cycle was encountered."
   ]
  },
  {
   "cell_type": "code",
   "execution_count": 1,
   "id": "914c994a",
   "metadata": {},
   "outputs": [],
   "source": [
    "import networkx as nx\n",
    "import numpy as np\n",
    "import matplotlib.pyplot as plt"
   ]
  },
  {
   "cell_type": "code",
   "execution_count": 22,
   "id": "9b028855",
   "metadata": {},
   "outputs": [
    {
     "data": {
      "image/png": "[encoded data removed]",
      "text/plain": [
       "<Figure size 432x288 with 1 Axes>"
      ]
     },
     "metadata": {},
     "output_type": "display_data"
    }
   ],
   "source": [
    "G1 = nx.DiGraph()\n",
    "G1.add_node(13)\n",
    "G1.add_edges_from([(0,2), (0,3), (0, 6), (1, 4), (2, 6), (3, 1), (3, 4), (4, 5), (4, 8), (6, 7), (6, 11), (7, 4), (7, 12), (9, 2), (9, 10), (10, 6), (11, 12), (12, 8)])\n",
    "nx.draw(G1)"
   ]
  },
  {
   "cell_type": "code",
   "execution_count": 25,
   "id": "95c5f002",
   "metadata": {},
   "outputs": [],
   "source": [
    "def Kahn_algorithm(Graph):\n",
    "    \"\"\"\n",
    "    The Kahn algorithm produces a topological order for a directed acyclic graph. There can be several valid orders\n",
    "    \n",
    "    :param\n",
    "    ---------\n",
    "    Graph: a directed acyclic graph\n",
    "    \n",
    "    :returns\n",
    "    ---------\n",
    "    topological order - list of nodes, such as fist node has no dependencies, last node has no outdegree, nodes inbetween\n",
    "    are unlocked by removing edges such that indegree becomes 0.\n",
    "    \"\"\"\n",
    "    \n",
    "    # initialize the topological order list\n",
    "    topo_order = []\n",
    "    \n",
    "    # initialize the queue with all nodes of the graph having an indegree of 0\n",
    "    queue = [node for node in list(Graph.nodes) if Graph.in_degree[node] == 0]\n",
    "    \n",
    "    # as long as there are nodes in the queue perform the following steps\n",
    "    while queue:\n",
    "        # pick the first node from the queue\n",
    "        current_node = queue[0]\n",
    "        \n",
    "        # remove it from the the queue\n",
    "        queue.pop(0)\n",
    "        \n",
    "        # add it to the topologicla order\n",
    "        topo_order.append(current_node)\n",
    "        \n",
    "        # find its adjacent nodes\n",
    "        for adj_node in list(Graph.adj[current_node]):\n",
    "            # for each adjacent node remove the connecting edge\n",
    "            Graph.remove_edge(current_node, adj_node)\n",
    "            # add the adjacent node to the queue if the indegree becomes 0\n",
    "            if Graph.in_degree[adj_node] == 0:\n",
    "                queue.append(adj_node)\n",
    "    \n",
    "    # check whether cycle was encountered if not return the topological order\n",
    "    if Graph.number_of_edges() > 0:\n",
    "        raise ValueError('cycle encountered')\n",
    "    else:\n",
    "        return topo_order"
   ]
  },
  {
   "cell_type": "code",
   "execution_count": 26,
   "id": "5de9163b",
   "metadata": {},
   "outputs": [
    {
     "data": {
      "text/plain": [
       "[13, 0, 2, 3, 6, 1, 4, 5, 8, 7, 11, 12, 9, 10]"
      ]
     },
     "execution_count": 26,
     "metadata": {},
     "output_type": "execute_result"
    }
   ],
   "source": [
    "Kahn_algorithm(G1)"
   ]
  }
 ],
 "metadata": {
  "kernelspec": {
   "display_name": "Python 3 (ipykernel)",
   "language": "python",
   "name": "python3"
  },
  "language_info": {
   "codemirror_mode": {
    "name": "ipython",
    "version": 3
   },
   "file_extension": ".py",
   "mimetype": "text/x-python",
   "name": "python",
   "nbconvert_exporter": "python",
   "pygments_lexer": "ipython3",
   "version": "3.9.6"
  }
 },
 "nbformat": 4,
 "nbformat_minor": 5
}
