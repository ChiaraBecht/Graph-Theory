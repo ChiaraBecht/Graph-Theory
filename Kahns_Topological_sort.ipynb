{
 "cells": [
  {
   "cell_type": "markdown",
   "id": "b8576c0a",
   "metadata": {},
   "source": [
    "# Kahn's Topoplogical sort algorithm\n",
    "\n",
    "Kahn's algorithm produces a topological order of a provided directed acyclic graph (DAG). DAG's nodes are characterized by having incoming and outgoing degrees (because of being directed). The number of incoming edges/branches is called indegree, the number of leaving edges/branches from a node is called the outdegree. Nodes with an indegree of 0 do not depend on any other node in the graph. A node with indegree > 0 depends on the the node from which its incoming branch/es are originating. If a graph connects several nodes which all rely on a sequence of the included nodes because each node has in and out going edges/branches, this sequence of nodes is called a cycle. A DAG does not have such cycles. Kahn's algorithm orders the nodes in such a way, that the first node will have an indegree of 0 and the last node will have  an outdegree of 0. The topological order is ambiguous, meaning several runs of the algorithm can lead to several valid orders. \n",
    "\n",
    "The Kahn sort algorithm can be imagined as a representation of the morning routine. In order to leave the house one needs to get out of the bed first, getting dressed, eating breakfast, going to the bathroom and so on. Some of these actions require another one happening before, while some are not depending on other actions. In order to get all the morning routine steps done you need to leave the bed. However, it is up to you whether you brush your teeths before getting dressed. This kind of problems are addressed with the Kahn algorithm. In this case leaving the bed is a node with an indegree 0. Leaving the house is not leading to any other action in the morning routine and will be the last node in the order. The nodes between need to be unlocked by taking actions and remove dependencies. For example leaving the bed makes the options go to the bathroom,  get dressed or get breakfast available. If you go to the bathroom first then brushing teeth, going to the toilet and washing the face become available because the bathroom was entered on which these actions rely on. Note you could choose to eat breakfast or getting dressed first and got to the bathroom later. You even could go to the toilet first then have breakfast, then return to the bathroom for brushing teeth and washing the face and as last step before leaving the house getting dressed.\n",
    "\n",
    "The Kahn algorithm handles these dependencies as follows: find all nodes with indegree 0 and add them to a queue. Pick the first queue element and add it as first element to the topological order. Then, delete the current node from the queue and the graph. Deletion from the graph results in lessening of the adjacent nodes indegree by 1. This reduction is due to the current nodes outgoing node is an incoming node for the adjacent nodes. This procedure of lessening the indegree of adjacent nodes eventually results in indegree of 0 for an adjacent node. If this is the case, add this node to the queue with nodes of indegree 0. If this is not the case continue without adding new elements to the queue with the second queue element. Again remove it from the queue and the graph. Check whether the indegree of adjacent nodes has reduced to 0 if so add it to the queue. This set of actions is repeated until the graoh does have nodes. While repeting these steps keep track of how often you repeat these steps, if you need to repeat the steps more often than there are nodes in the graph a cycle was encountered. In this case do not return the order but a statement, that a cycle was encountered."
   ]
  },
  {
   "cell_type": "code",
   "execution_count": 3,
   "id": "914c994a",
   "metadata": {},
   "outputs": [],
   "source": [
    "import networkx as nx\n",
    "import numpy as np\n",
    "import matplotlib.pyplot as plt"
   ]
  },
  {
   "cell_type": "code",
   "execution_count": 127,
   "id": "9b028855",
   "metadata": {},
   "outputs": [
    {
     "data": {
      "image/png": "[encoded data removed]",
      "text/plain": [
       "<Figure size 432x288 with 1 Axes>"
      ]
     },
     "metadata": {},
     "output_type": "display_data"
    }
   ],
   "source": [
    "G1 = nx.DiGraph()\n",
    "G1.add_node(13)\n",
    "G1.add_edges_from([(0,2), (0,3), (0, 6), (1, 4), (2, 6), (3, 1), (3, 4), (4, 5), (4, 8), (6, 7), (6, 11), (7, 4), (7, 12), (9, 2), (9, 10), (10, 6), (11, 12), (12, 8)])\n",
    "nx.draw(G1)"
   ]
  },
  {
   "cell_type": "code",
   "execution_count": 129,
   "id": "3f571c1f",
   "metadata": {},
   "outputs": [],
   "source": [
    "def Kahn_algorithm(Graph):\n",
    "    # transcribe nodes and their indegrees into dictionary\n",
    "    indegree_dict = dict(Graph.in_degree())\n",
    "\n",
    "    # get a list of all nodes\n",
    "    nodes = list(Graph.nodes)\n",
    "    nr_nodes = len(nodes)\n",
    "    \n",
    "    # intitialize the topological order\n",
    "    topological_order = []\n",
    "    \n",
    "    # as long as there are nodes run this loop\n",
    "    while nodes:\n",
    "        # loop through nodes and if the indegree of the current node is 0 do the following steps\n",
    "        for node in nodes:\n",
    "            print('current node:', node)\n",
    "            if indegree_dict[node] == 0:\n",
    "                \n",
    "                # add it to the topological order and remove it from the nodes queue\n",
    "                topological_order.append(node)\n",
    "                nodes.remove(node)\n",
    "\n",
    "                # find adjacent nodes\n",
    "                adj_nodes = Graph.adj[node]\n",
    "                \n",
    "                # lessen the in degree of the adjacent nodes by 1\n",
    "                for adj in adj_nodes:\n",
    "                    indegree_dict[adj] = indegree_dict[adj] - 1\n",
    "    \n",
    "    if len(topological_order) == nr_nodes: # this statement will never end up in else because i remove nodes every step\n",
    "        return topological_order\n",
    "    else:\n",
    "        print('Cycle was encountered')"
   ]
  },
  {
   "cell_type": "code",
   "execution_count": 130,
   "id": "4eb77ab6",
   "metadata": {},
   "outputs": [
    {
     "name": "stdout",
     "output_type": "stream",
     "text": [
      "current node: 13\n",
      "current node: 2\n",
      "current node: 3\n",
      "current node: 6\n",
      "current node: 1\n",
      "current node: 4\n",
      "current node: 5\n",
      "current node: 8\n",
      "current node: 7\n",
      "current node: 11\n",
      "current node: 12\n",
      "current node: 9\n",
      "current node: 0\n",
      "current node: 3\n",
      "current node: 1\n",
      "current node: 5\n",
      "current node: 8\n",
      "current node: 7\n",
      "current node: 11\n",
      "current node: 12\n",
      "current node: 10\n",
      "current node: 2\n",
      "current node: 4\n",
      "current node: 5\n",
      "current node: 8\n",
      "current node: 7\n",
      "current node: 11\n",
      "current node: 12\n",
      "current node: 6\n",
      "current node: 5\n",
      "current node: 8\n",
      "current node: 7\n",
      "current node: 12\n",
      "current node: 4\n",
      "current node: 8\n",
      "current node: 11\n",
      "current node: 5\n",
      "current node: 12\n",
      "current node: 8\n"
     ]
    },
    {
     "data": {
      "text/plain": [
       "[13, 9, 0, 3, 1, 10, 2, 6, 7, 4, 11, 5, 12, 8]"
      ]
     },
     "execution_count": 130,
     "metadata": {},
     "output_type": "execute_result"
    }
   ],
   "source": [
    "Kahn_algorithm(G1)"
   ]
  },
  {
   "cell_type": "code",
   "execution_count": 128,
   "id": "56162c58",
   "metadata": {
    "scrolled": true
   },
   "outputs": [
    {
     "name": "stdout",
     "output_type": "stream",
     "text": [
      "initital indegree dict {13: 0, 0: 0, 2: 2, 3: 1, 6: 3, 1: 1, 4: 3, 5: 1, 8: 2, 7: 1, 11: 1, 12: 2, 9: 0, 10: 1}\n",
      "-------------start of loop------------------\n",
      "----------------end of loop run--------------------\n",
      "-------------start of loop------------------\n"
     ]
    },
    {
     "ename": "KeyError",
     "evalue": "0",
     "output_type": "error",
     "traceback": [
      "\u001b[1;31m---------------------------------------------------------------------------\u001b[0m",
      "\u001b[1;31mKeyError\u001b[0m                                  Traceback (most recent call last)",
      "\u001b[1;32m~\\AppData\\Local\\Temp/ipykernel_24720/3168765566.py\u001b[0m in \u001b[0;36m<module>\u001b[1;34m\u001b[0m\n\u001b[0;32m     21\u001b[0m     \u001b[1;31m# remove nodes with indegree 0 from the indegree dictionary and from the nodes list\u001b[0m\u001b[1;33m\u001b[0m\u001b[1;33m\u001b[0m\u001b[1;33m\u001b[0m\u001b[0m\n\u001b[0;32m     22\u001b[0m     \u001b[1;32mfor\u001b[0m \u001b[0mnode\u001b[0m \u001b[1;32min\u001b[0m \u001b[0mqueue\u001b[0m\u001b[1;33m:\u001b[0m\u001b[1;33m\u001b[0m\u001b[1;33m\u001b[0m\u001b[0m\n\u001b[1;32m---> 23\u001b[1;33m         \u001b[0mindegree_dict\u001b[0m\u001b[1;33m.\u001b[0m\u001b[0mpop\u001b[0m\u001b[1;33m(\u001b[0m\u001b[0mnode\u001b[0m\u001b[1;33m)\u001b[0m\u001b[1;33m\u001b[0m\u001b[1;33m\u001b[0m\u001b[0m\n\u001b[0m\u001b[0;32m     24\u001b[0m         \u001b[0mnodes\u001b[0m\u001b[1;33m.\u001b[0m\u001b[0mremove\u001b[0m\u001b[1;33m(\u001b[0m\u001b[0mnode\u001b[0m\u001b[1;33m)\u001b[0m\u001b[1;33m\u001b[0m\u001b[1;33m\u001b[0m\u001b[0m\n\u001b[0;32m     25\u001b[0m \u001b[1;33m\u001b[0m\u001b[0m\n",
      "\u001b[1;31mKeyError\u001b[0m: 0"
     ]
    }
   ],
   "source": [
    "# transcribe nodes and their indegrees into dictionary\n",
    "#indegree_dict = {node: indegree for (node, indegree) in G1.in_degree()}\n",
    "indegree_dict = dict(G1.in_degree())\n",
    "print('initital indegree dict', indegree_dict)\n",
    "\n",
    "# get a list of all nodes\n",
    "nodes = list(G1.nodes)\n",
    "# initialize the queue\n",
    "queue = []\n",
    "\n",
    "# intitialize the topological order\n",
    "topological_order = []\n",
    "\n",
    "while nodes:\n",
    "    print('-------------start of loop------------------')\n",
    "    # add nodes with indegree 0 to queue\n",
    "    for node in indegree_dict.keys():\n",
    "        if indegree_dict[node] == 0:\n",
    "            queue.append(node)\n",
    "    \n",
    "    # remove nodes with indegree 0 from the indegree dictionary and from the nodes list\n",
    "    for node in queue:\n",
    "        indegree_dict.pop(node)\n",
    "        nodes.remove(node)\n",
    "    \n",
    "    # find adjacent nodes of the first queue item\n",
    "    adj_nodes = G1.adj[queue[0]]\n",
    "    \n",
    "    # loop through adjacent nodes and lessen their indegree by 1\n",
    "    for adj in adj_nodes:\n",
    "        indegree_dict[adj] = indegree_dict[adj] - 1\n",
    "    \n",
    "    # add first queue item to the topological order\n",
    "    topological_order.append(queue[0])\n",
    "    \n",
    "    # remove the first queue item from the queue\n",
    "    queue.pop(0)\n",
    "    \n",
    "    print('----------------end of loop run--------------------')"
   ]
  }
 ],
 "metadata": {
  "kernelspec": {
   "display_name": "Python 3 (ipykernel)",
   "language": "python",
   "name": "python3"
  },
  "language_info": {
   "codemirror_mode": {
    "name": "ipython",
    "version": 3
   },
   "file_extension": ".py",
   "mimetype": "text/x-python",
   "name": "python",
   "nbconvert_exporter": "python",
   "pygments_lexer": "ipython3",
   "version": "3.9.6"
  }
 },
 "nbformat": 4,
 "nbformat_minor": 5
}
